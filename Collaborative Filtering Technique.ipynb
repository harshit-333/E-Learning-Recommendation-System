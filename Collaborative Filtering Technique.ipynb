{
 "cells": [
  {
   "cell_type": "code",
   "execution_count": 1,
   "id": "ac95c145",
   "metadata": {},
   "outputs": [],
   "source": [
    "import pandas as pd\n",
    "from sklearn.metrics.pairwise import cosine_similarity\n",
    "\n",
    "def recommend_courses(user_profile, threshold):\n",
    "    course_ratings = pd.read_csv('C:/Users/91798/E-Learning Recommendation System/course_ratings.csv')\n",
    "    all_items = course_ratings['item'].unique()\n",
    "    user_data = pd.DataFrame(0, index=[user_profile.name], columns=user_profile.index)\n",
    "    \n",
    "    # Fill in the ratings provided and find common users\n",
    "    user_data.loc[user_profile.name, user_profile.index] = user_profile.values\n",
    "    common_users = course_ratings[course_ratings['item'].isin(user_profile.index)]['user'].unique()\n",
    "    \n",
    "    # Calculate cosine similarity\n",
    "    similarity_scores = {}\n",
    "    for user_id in common_users:\n",
    "        user_ratings = course_ratings[course_ratings['user'] == user_id].set_index('item')['rating']\n",
    "        user_ratings = user_ratings.reindex(user_data.columns, fill_value=0)\n",
    "        temp = cosine_similarity([user_data.loc[user_profile.name]], [user_ratings])[0][0]\n",
    "        if temp>threshold:\n",
    "            similarity_scores[user_id] = temp\n",
    "            \n",
    "    sorted_users = sorted(similarity_scores.items(), key=lambda x: x[1], reverse=True)\n",
    "    \n",
    "    # Generate recommendations\n",
    "    recommended_courses = {}\n",
    "    num_users_considered = {}\n",
    "    for user_id, similarity_score in sorted_users:\n",
    "        user_ratings = course_ratings[course_ratings['user'] == user_id].set_index('item')\n",
    "        for item, rating in user_ratings.iterrows():\n",
    "            if item not in user_profile.index: \n",
    "                if item not in recommended_courses:\n",
    "                    recommended_courses[item] = 0\n",
    "                    num_users_considered[item] = 0\n",
    "                recommended_courses[item] += similarity_score * rating['rating']\n",
    "                num_users_considered[item]+=1\n",
    "    \n",
    "    # Normalize the predicted scores between 0 and 3\n",
    "    for item in recommended_courses:\n",
    "        if num_users_considered[item] > 0:\n",
    "            recommended_courses[item] /= num_users_considered[item]\n",
    "    \n",
    "    sorted_recommendations = sorted(recommended_courses.items(), key=lambda x: x[1], reverse=True)\n",
    "    return sorted_recommendations"
   ]
  },
  {
   "cell_type": "code",
   "execution_count": 82,
   "id": "9549d236",
   "metadata": {},
   "outputs": [],
   "source": [
    "# Example\n",
    "user_profile = pd.Series( {'BC0201EN': 3.0, 'BD0123EN': 3.0, 'TMP0105EN': 2.0}, name='target_user')\n",
    "recommendations = recommend_courses(user_profile, 0.9)"
   ]
  },
  {
   "cell_type": "code",
   "execution_count": 83,
   "id": "1a7db4cd",
   "metadata": {},
   "outputs": [
    {
     "name": "stdout",
     "output_type": "stream",
     "text": [
      "Recommended Courses:\n",
      "Course: BD0151EN, Predicted Rating:  2.83\n",
      "Course: SW0101EN, Predicted Rating:  2.74\n",
      "Course: WA0101EN, Predicted Rating:  2.73\n",
      "Course: IT0101EN, Predicted Rating:  2.72\n",
      "Course: ML0109EN, Predicted Rating:  2.72\n"
     ]
    }
   ],
   "source": [
    "print(\"Recommended Courses:\")\n",
    "for item, score in recommendations[:5]:\n",
    "    print(f\"Course: {item}, Predicted Rating: {score: .2f}\")"
   ]
  },
  {
   "cell_type": "code",
   "execution_count": 6,
   "id": "7676c13c",
   "metadata": {},
   "outputs": [],
   "source": [
    "# Example\n",
    "user_profile = pd.Series( {'excourse40': 3.0, 'ML0122ENv3': 3.0, 'DA0151EN': 2.0, 'excourse69': 3.0}, name='target_user')\n",
    "recommendations = recommend_courses(user_profile, 0.7)"
   ]
  },
  {
   "cell_type": "code",
   "execution_count": 7,
   "id": "f5fdeccf",
   "metadata": {},
   "outputs": [
    {
     "name": "stdout",
     "output_type": "stream",
     "text": [
      "Recommended Courses:\n",
      "Course: ML0101EN, Predicted Rating:  2.29\n",
      "Course: excourse46, Predicted Rating:  2.29\n",
      "Course: excourse47, Predicted Rating:  2.29\n"
     ]
    }
   ],
   "source": [
    "print(\"Recommended Courses:\")\n",
    "for item, score in recommendations[:5]:\n",
    "    print(f\"Course: {item}, Predicted Rating: {score: .2f}\")"
   ]
  },
  {
   "cell_type": "code",
   "execution_count": null,
   "id": "f0a48ae6",
   "metadata": {},
   "outputs": [],
   "source": []
  }
 ],
 "metadata": {
  "kernelspec": {
   "display_name": "Python 3",
   "language": "python",
   "name": "python3"
  },
  "language_info": {
   "codemirror_mode": {
    "name": "ipython",
    "version": 3
   },
   "file_extension": ".py",
   "mimetype": "text/x-python",
   "name": "python",
   "nbconvert_exporter": "python",
   "pygments_lexer": "ipython3",
   "version": "3.8.8"
  }
 },
 "nbformat": 4,
 "nbformat_minor": 5
}
