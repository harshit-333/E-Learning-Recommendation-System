{
 "cells": [
  {
   "cell_type": "code",
   "execution_count": 1,
   "id": "848fbf44",
   "metadata": {},
   "outputs": [],
   "source": [
    "import numpy as np\n",
    "import pandas as pd\n",
    "\n",
    "def generate_recommendations(enrolled_course_ids, threshold, include):\n",
    "    # Load data\n",
    "    if include==0:\n",
    "        course_df = pd.read_csv('C:/Users/91798/E-Learning Recommendation System/filtered_courses.csv')\n",
    "    else:\n",
    "        course_df = pd.read_csv('C:/Users/91798/E-Learning Recommendation System/courses.csv')\n",
    "        \n",
    "    bows_df = pd.read_csv('C:/Users/91798/E-Learning Recommendation System/bows_df.csv')\n",
    "    sim_matrix = pd.read_csv('C:/Users/91798/E-Learning Recommendation System/sim.csv').to_numpy()\n",
    "\n",
    "    # Create index-id dictionaries\n",
    "    grouped_df = bows_df.groupby(['doc_index', 'doc_id']).max().reset_index(drop=False)\n",
    "    idx_id_dict = grouped_df[['doc_id']].to_dict()['doc_id']\n",
    "    id_idx_dict = {v: k for k, v in idx_id_dict.items()}\n",
    "\n",
    "    # Extract selected and unselected courses\n",
    "    all_courses = set(course_df['COURSE_ID'])\n",
    "    unselected_course_ids = all_courses.difference(enrolled_course_ids)\n",
    "\n",
    "    # Generate recommendations\n",
    "    res = {}\n",
    "    for enrolled_course in enrolled_course_ids:\n",
    "        for unselect_course in unselected_course_ids:\n",
    "            if enrolled_course in id_idx_dict and unselect_course in id_idx_dict:\n",
    "                idx1 = id_idx_dict[enrolled_course]\n",
    "                idx2 = id_idx_dict[unselect_course]\n",
    "                sim = sim_matrix[idx1][idx2]\n",
    "                if sim > threshold:\n",
    "                    if unselect_course not in res:\n",
    "                        res[unselect_course] = sim\n",
    "                    else:\n",
    "                        if sim >= res[unselect_course]:\n",
    "                            res[unselect_course] = sim\n",
    "    sorted_recommendations = sorted(res.items(), key=lambda item: item[1], reverse=True)\n",
    "    return sorted_recommendations"
   ]
  },
  {
   "cell_type": "code",
   "execution_count": 2,
   "id": "c05877b8",
   "metadata": {},
   "outputs": [
    {
     "name": "stdout",
     "output_type": "stream",
     "text": [
      "[('excourse40', 1.0), ('ML0122ENv3', 0.6815739441431503), ('DA0151EN', 0.5737851219446795), ('excourse69', 0.5514744732509853)]\n"
     ]
    }
   ],
   "source": [
    "# Example usage:\n",
    "enrolled_course_ids = ['ML0201EN', 'ML0122EN', 'GPXX0ZG0EN', 'RP0105EN', 'excourse54']\n",
    "threshold = 0.5\n",
    "recommendations = generate_recommendations(enrolled_course_ids, threshold, 0)\n",
    "print(recommendations)"
   ]
  },
  {
   "cell_type": "code",
   "execution_count": 4,
   "id": "206954ca",
   "metadata": {},
   "outputs": [
    {
     "name": "stdout",
     "output_type": "stream",
     "text": [
      "[('ML0151EN', 0.6892532539898828), ('ML0101ENv3', 0.6347547807096177), ('excourse60', 0.6307666542363487), ('excourse69', 0.5928906206690311), ('ML0109EN', 0.5899114727287609), ('excourse61', 0.555977229601518), ('excourse51', 0.5237275549955195), ('BENTEST4', 0.5215413911459146), ('excourse52', 0.5028927502928755), ('excourse48', 0.5011224621465926), ('ML0115EN', 0.5005564831995)]\n"
     ]
    }
   ],
   "source": [
    "enrolled_course_ids = ['ML0101EN', 'excourse46', 'excourse47']\n",
    "threshold = 0.5\n",
    "recommendations = generate_recommendations(enrolled_course_ids, threshold, 1)\n",
    "print(recommendations)"
   ]
  },
  {
   "cell_type": "code",
   "execution_count": 7,
   "id": "2b7d36a9",
   "metadata": {},
   "outputs": [
    {
     "data": {
      "text/plain": [
       "['excourse60', 'excourse61', 'excourse51', 'excourse48']"
      ]
     },
     "execution_count": 7,
     "metadata": {},
     "output_type": "execute_result"
    }
   ],
   "source": [
    "ratings = pd.read_csv('C:/Users/91798/E-Learning Recommendation System/ratings.csv')\n",
    "rating = ratings['item'].unique()\n",
    "cnt = []\n",
    "for item in recommendations:\n",
    "    if item[0] not in rating:\n",
    "        cnt.append(item[0])\n",
    "cnt"
   ]
  },
  {
   "cell_type": "code",
   "execution_count": null,
   "id": "9e9cf782",
   "metadata": {},
   "outputs": [],
   "source": []
  }
 ],
 "metadata": {
  "kernelspec": {
   "display_name": "Python 3",
   "language": "python",
   "name": "python3"
  },
  "language_info": {
   "codemirror_mode": {
    "name": "ipython",
    "version": 3
   },
   "file_extension": ".py",
   "mimetype": "text/x-python",
   "name": "python",
   "nbconvert_exporter": "python",
   "pygments_lexer": "ipython3",
   "version": "3.8.8"
  }
 },
 "nbformat": 4,
 "nbformat_minor": 5
}
